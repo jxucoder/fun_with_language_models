{
 "cells": [
  {
   "cell_type": "code",
   "execution_count": 1,
   "id": "74cae9c2",
   "metadata": {},
   "outputs": [],
   "source": [
    "%load_ext autoreload\n",
    "%autoreload 2\n",
    "\n",
    "import sys\n",
    "sys.path.append(\"../\")"
   ]
  },
  {
   "cell_type": "code",
   "execution_count": 13,
   "id": "2f7bf00a",
   "metadata": {},
   "outputs": [],
   "source": [
    "from ironhide.utilities.helpers import accuracy\n",
    "from ironhide.data.mnist import num_pixels, train_images, train_labels, test_images, test_labels\n",
    "from ironhide.models.mlp import ToyMLP"
   ]
  },
  {
   "cell_type": "code",
   "execution_count": 14,
   "id": "10d85d1d",
   "metadata": {},
   "outputs": [],
   "source": [
    "import matplotlib.pyplot as plt\n",
    "import numpy as np\n",
    "\n",
    "%matplotlib inline"
   ]
  },
  {
   "cell_type": "code",
   "execution_count": 15,
   "id": "a90ab4cd",
   "metadata": {},
   "outputs": [],
   "source": [
    "layer_sizes = [784, 512, 512, 10]"
   ]
  },
  {
   "cell_type": "code",
   "execution_count": 16,
   "id": "d876dc11",
   "metadata": {},
   "outputs": [],
   "source": [
    "tmlp = ToyMLP(None, layer_sizes)"
   ]
  },
  {
   "cell_type": "markdown",
   "id": "5d1b8c64",
   "metadata": {},
   "source": [
    "### Without Training"
   ]
  },
  {
   "cell_type": "code",
   "execution_count": 17,
   "id": "10d5b5f1",
   "metadata": {},
   "outputs": [
    {
     "data": {
      "text/plain": [
       "Array([5, 8, 0, ..., 4, 8, 8], dtype=int32)"
      ]
     },
     "execution_count": 17,
     "metadata": {},
     "output_type": "execute_result"
    }
   ],
   "source": [
    "tmlp.predict(test_images)"
   ]
  },
  {
   "cell_type": "code",
   "execution_count": 18,
   "id": "25c18cb6",
   "metadata": {},
   "outputs": [
    {
     "data": {
      "text/plain": [
       "Array(0.12469999, dtype=float32)"
      ]
     },
     "execution_count": 18,
     "metadata": {},
     "output_type": "execute_result"
    }
   ],
   "source": [
    "accuracy(tmlp.predict(test_images), test_labels)"
   ]
  },
  {
   "cell_type": "code",
   "execution_count": 22,
   "id": "1fdfc439",
   "metadata": {},
   "outputs": [
    {
     "data": {
      "image/png": "[encoded data removed]",
      "text/plain": [
       "<Figure size 640x480 with 1 Axes>"
      ]
     },
     "metadata": {},
     "output_type": "display_data"
    }
   ],
   "source": [
    "first_image = test_images[0]\n",
    "first_image = np.array(first_image, dtype='float')\n",
    "pixels = first_image.reshape((28, 28))\n",
    "flattened = pixels.reshape(1, 784)\n",
    "plt.imshow(pixels, cmap='gray')\n",
    "plt.show()"
   ]
  },
  {
   "cell_type": "code",
   "execution_count": 23,
   "id": "fdda56e3",
   "metadata": {},
   "outputs": [
    {
     "data": {
      "text/plain": [
       "Array([5], dtype=int32)"
      ]
     },
     "execution_count": 23,
     "metadata": {},
     "output_type": "execute_result"
    }
   ],
   "source": [
    "tmlp.predict(flattened)"
   ]
  },
  {
   "cell_type": "markdown",
   "id": "ad4f5839",
   "metadata": {},
   "source": [
    "### Fit with implemented GD without `jaxopt`"
   ]
  },
  {
   "cell_type": "code",
   "execution_count": 24,
   "id": "6c80792a",
   "metadata": {},
   "outputs": [],
   "source": [
    "tmlp.fit(train_images, train_labels, use_jaxopt=False)"
   ]
  },
  {
   "cell_type": "code",
   "execution_count": 25,
   "id": "35f84f98",
   "metadata": {},
   "outputs": [
    {
     "data": {
      "text/plain": [
       "Array(0.97959995, dtype=float32)"
      ]
     },
     "execution_count": 25,
     "metadata": {},
     "output_type": "execute_result"
    }
   ],
   "source": [
    "accuracy(tmlp.predict(test_images), test_labels)"
   ]
  },
  {
   "cell_type": "code",
   "execution_count": 26,
   "id": "06f24b3b",
   "metadata": {},
   "outputs": [
    {
     "data": {
      "text/plain": [
       "Array([2], dtype=int32)"
      ]
     },
     "execution_count": 26,
     "metadata": {},
     "output_type": "execute_result"
    }
   ],
   "source": [
    "tmlp.predict(flattened)"
   ]
  },
  {
   "cell_type": "markdown",
   "id": "04845d17",
   "metadata": {},
   "source": [
    "### Fit with `jaxopt`"
   ]
  },
  {
   "cell_type": "code",
   "execution_count": 27,
   "id": "9bc00bea",
   "metadata": {},
   "outputs": [],
   "source": [
    "tmlp = ToyMLP(None, layer_sizes)"
   ]
  },
  {
   "cell_type": "code",
   "execution_count": 28,
   "id": "d22bbc9f",
   "metadata": {},
   "outputs": [],
   "source": [
    "tmlp.fit(train_images, train_labels, use_jaxopt=True)"
   ]
  },
  {
   "cell_type": "code",
   "execution_count": 29,
   "id": "f3d4393b",
   "metadata": {},
   "outputs": [
    {
     "data": {
      "text/plain": [
       "Array(0.98109996, dtype=float32)"
      ]
     },
     "execution_count": 29,
     "metadata": {},
     "output_type": "execute_result"
    }
   ],
   "source": [
    "accuracy(tmlp.predict(test_images), test_labels)"
   ]
  },
  {
   "cell_type": "code",
   "execution_count": 30,
   "id": "ff0b7bef",
   "metadata": {},
   "outputs": [
    {
     "data": {
      "text/plain": [
       "Array([2], dtype=int32)"
      ]
     },
     "execution_count": 30,
     "metadata": {},
     "output_type": "execute_result"
    }
   ],
   "source": [
    "tmlp.predict(flattened)"
   ]
  },
  {
   "cell_type": "code",
   "execution_count": null,
   "id": "84b21ea5",
   "metadata": {},
   "outputs": [],
   "source": []
  }
 ],
 "metadata": {
  "kernelspec": {
   "display_name": "Python 3 (ipykernel)",
   "language": "python",
   "name": "python3"
  },
  "language_info": {
   "codemirror_mode": {
    "name": "ipython",
    "version": 3
   },
   "file_extension": ".py",
   "mimetype": "text/x-python",
   "name": "python",
   "nbconvert_exporter": "python",
   "pygments_lexer": "ipython3",
   "version": "3.8.2"
  }
 },
 "nbformat": 4,
 "nbformat_minor": 5
}
